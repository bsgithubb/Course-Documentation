{
 "cells": [
  {
   "cell_type": "markdown",
   "id": "205efc43",
   "metadata": {},
   "source": [
    "# Loops \n",
    "Loops are used when you want ot repeat n operation many times. Repeated operations are performed by loops. Common loops are *for* and *while*"
   ]
  },
  {
   "cell_type": "markdown",
   "id": "e0c90c51",
   "metadata": {},
   "source": [
    "## Range\n",
    "It's helpful to think of range as an ordered list"
   ]
  },
  {
   "cell_type": "code",
   "execution_count": 2,
   "id": "ae84f107",
   "metadata": {},
   "outputs": [
    {
     "data": {
      "text/plain": [
       "range(0, 3)"
      ]
     },
     "execution_count": 2,
     "metadata": {},
     "output_type": "execute_result"
    }
   ],
   "source": [
    "# Here we make an object that contains elements ordered from 0 to 3\n",
    "\n",
    "range(0,3)"
   ]
  },
  {
   "cell_type": "markdown",
   "id": "4684c8db",
   "metadata": {},
   "source": [
    "## *FOR* Loops\n",
    "For loops enable you to execute a code block multiple times. Ex: Print every element in a list. "
   ]
  },
  {
   "cell_type": "code",
   "execution_count": 5,
   "id": "8b09e945",
   "metadata": {},
   "outputs": [
    {
     "name": "stdout",
     "output_type": "stream",
     "text": [
      "1982\n",
      "1980\n",
      "1973\n"
     ]
    }
   ],
   "source": [
    "# Example\n",
    "#The code in the indent is executed N times, each time the value of i is increased by 1 \n",
    "# for every execution. The statement executed is to print out the value in the list at index i as shown here:\n",
    "\n",
    "dates = [1982,1980, 1973]\n",
    "N = len(dates)\n",
    "\n",
    "for i in range(N):\n",
    "    print(dates[i])"
   ]
  },
  {
   "cell_type": "code",
   "execution_count": 6,
   "id": "9c4827e5",
   "metadata": {},
   "outputs": [
    {
     "name": "stdout",
     "output_type": "stream",
     "text": [
      "0\n",
      "1\n",
      "2\n",
      "3\n",
      "4\n",
      "5\n",
      "6\n",
      "7\n"
     ]
    }
   ],
   "source": [
    "#Example 2 \n",
    "\n",
    "for i in range(0,8):\n",
    "    print(i)"
   ]
  },
  {
   "cell_type": "code",
   "execution_count": 8,
   "id": "e654d587",
   "metadata": {},
   "outputs": [
    {
     "name": "stdout",
     "output_type": "stream",
     "text": [
      "1982\n",
      "1980\n",
      "1973\n"
     ]
    }
   ],
   "source": [
    "for year in dates:\n",
    "    print(year)"
   ]
  },
  {
   "cell_type": "code",
   "execution_count": 11,
   "id": "ac5eeb8e",
   "metadata": {},
   "outputs": [
    {
     "name": "stdout",
     "output_type": "stream",
     "text": [
      "Before square 0 is red\n",
      "After square 0 is white\n",
      "Before square 1 is yellow\n",
      "After square 1 is white\n",
      "Before square 2 is green\n",
      "After square 2 is white\n",
      "Before square 3 is purple\n",
      "After square 3 is white\n",
      "Before square 4 is blue\n",
      "After square 4 is white\n"
     ]
    }
   ],
   "source": [
    "# Use for loop to change elements in list\n",
    "\n",
    "squares = ['red', 'yellow', 'green', 'purple', 'blue']\n",
    "\n",
    "for i in range (0,5):\n",
    "    print(\"Before square\", i, 'is', squares[i])\n",
    "    squares[i] = 'white'\n",
    "    print(\"After square\", i, 'is', squares[i])"
   ]
  },
  {
   "cell_type": "code",
   "execution_count": 13,
   "id": "e618bcdc",
   "metadata": {},
   "outputs": [
    {
     "name": "stdout",
     "output_type": "stream",
     "text": [
      "0 red\n",
      "1 yellow\n",
      "2 green\n",
      "3 purple\n",
      "4 blue\n"
     ]
    }
   ],
   "source": [
    "#Loop through the list and iterate on both index and element value\n",
    "\n",
    "squares = ['red', 'yellow', 'green', 'purple', 'blue']\n",
    "\n",
    "for i, square in enumerate(squares):\n",
    "    print(i, square)"
   ]
  },
  {
   "cell_type": "markdown",
   "id": "fe44fc96",
   "metadata": {},
   "source": [
    "## While loop\n",
    "While loop exists as a tool for repeated execution based on a condition. The block is executed until the given logical condition returns False boolean value. "
   ]
  },
  {
   "cell_type": "code",
   "execution_count": 14,
   "id": "9598e565",
   "metadata": {},
   "outputs": [
    {
     "name": "stdout",
     "output_type": "stream",
     "text": [
      "1982\n",
      "1980\n",
      "It took 2 repetitions to get out of loop\n"
     ]
    }
   ],
   "source": [
    "# Example:\n",
    "\n",
    "dates = [1982, 1980, 1973, 2000]\n",
    "\n",
    "i = 0 \n",
    "year = dates[0]\n",
    "\n",
    "while(year != 1973):\n",
    "    print(year)\n",
    "    i = i + 1\n",
    "    year = dates[i]\n",
    "    \n",
    "print(\"It took\", i, \"repetitions to get out of loop\")"
   ]
  },
  {
   "cell_type": "markdown",
   "id": "d6b46189",
   "metadata": {},
   "source": [
    "# Quiz "
   ]
  },
  {
   "cell_type": "code",
   "execution_count": 27,
   "id": "0462f309",
   "metadata": {},
   "outputs": [
    {
     "name": "stdout",
     "output_type": "stream",
     "text": [
      "-4\n",
      "-3\n",
      "-2\n",
      "-1\n",
      "0\n",
      "1\n",
      "2\n",
      "3\n",
      "4\n"
     ]
    }
   ],
   "source": [
    "# write a for loop that prints out all elements between -5 and 5 using range function\n",
    "\n",
    "for i in range(-4,5):\n",
    "    print(i)"
   ]
  },
  {
   "cell_type": "code",
   "execution_count": 28,
   "id": "a853c375",
   "metadata": {},
   "outputs": [
    {
     "name": "stdout",
     "output_type": "stream",
     "text": [
      "rock\n",
      "R&B\n",
      "Soundtrack\n",
      "R&B\n",
      "soul\n",
      "pop\n"
     ]
    }
   ],
   "source": [
    "#Print the elements of:\n",
    "\n",
    "Genres=[ 'rock', 'R&B', 'Soundtrack', 'R&B', 'soul', 'pop']\n",
    "for Genre in Genres:\n",
    "    print(Genre)"
   ]
  },
  {
   "cell_type": "code",
   "execution_count": 32,
   "id": "dfd6e936",
   "metadata": {},
   "outputs": [
    {
     "name": "stdout",
     "output_type": "stream",
     "text": [
      "red\n",
      "yellow\n",
      "green\n",
      "purple\n",
      "blue\n"
     ]
    }
   ],
   "source": [
    "#Write a loop that prints out:\n",
    "\n",
    "squares=['red', 'yellow', 'green', 'purple', 'blue']\n",
    "for square in squares:\n",
    "    print(square)"
   ]
  },
  {
   "cell_type": "markdown",
   "id": "8b265bcd",
   "metadata": {},
   "source": [
    "#### Write a while loop to display the values of the Rating of an album playlist stored in the list PlayListRatings. If the score is less than 6, exit the loop. The list PlayListRatings is given by: PlayListRatings = [10, 9.5, 10, 8, 7.5, 5, 10, 10]"
   ]
  },
  {
   "cell_type": "code",
   "execution_count": 34,
   "id": "669fa113",
   "metadata": {},
   "outputs": [
    {
     "name": "stdout",
     "output_type": "stream",
     "text": [
      "10\n",
      "9.5\n",
      "10\n",
      "8\n",
      "7.5\n"
     ]
    }
   ],
   "source": [
    "# Write a while loop \n",
    "\n",
    "PlayListRatings = [10, 9.5, 10, 8, 7.5, 5, 10, 10]\n",
    "i = 0\n",
    "rating = PlayListRatings[0]\n",
    "while(i < len(PlayListRatings) and rating >= 6):\n",
    "    print(rating)\n",
    "    i = i + 1 \n",
    "    rating = PlayListRatings[i]    "
   ]
  },
  {
   "cell_type": "code",
   "execution_count": 35,
   "id": "e1bfc375",
   "metadata": {},
   "outputs": [
    {
     "name": "stdout",
     "output_type": "stream",
     "text": [
      "['orange', 'orange']\n"
     ]
    }
   ],
   "source": [
    "squares = ['orange', 'orange', 'purple', 'blue ', 'orange']\n",
    "new_squares = []\n",
    "i = 0\n",
    "while(i < len(squares) and squares[i] == 'orange'):\n",
    "    new_squares.append(squares[i])\n",
    "    i = i + 1\n",
    "print (new_squares)\n",
    "    "
   ]
  },
  {
   "cell_type": "code",
   "execution_count": null,
   "id": "303b5c2a",
   "metadata": {},
   "outputs": [],
   "source": []
  }
 ],
 "metadata": {
  "kernelspec": {
   "display_name": "Python 3",
   "language": "python",
   "name": "python3"
  },
  "language_info": {
   "codemirror_mode": {
    "name": "ipython",
    "version": 3
   },
   "file_extension": ".py",
   "mimetype": "text/x-python",
   "name": "python",
   "nbconvert_exporter": "python",
   "pygments_lexer": "ipython3",
   "version": "3.8.8"
  }
 },
 "nbformat": 4,
 "nbformat_minor": 5
}
