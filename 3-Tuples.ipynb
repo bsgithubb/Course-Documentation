{
 "cells": [
  {
   "cell_type": "markdown",
   "id": "ccbde8a9",
   "metadata": {},
   "source": [
    "# Tuples\n",
    "It's like a list. Except it's not. "
   ]
  },
  {
   "cell_type": "code",
   "execution_count": 2,
   "id": "48c252a6",
   "metadata": {},
   "outputs": [
    {
     "data": {
      "text/plain": [
       "('disco', 10, 1.2)"
      ]
     },
     "execution_count": 2,
     "metadata": {},
     "output_type": "execute_result"
    }
   ],
   "source": [
    "tuple1 = (\"disco\", 10, 1.2)\n",
    "tuple1"
   ]
  },
  {
   "cell_type": "code",
   "execution_count": 3,
   "id": "39f1023d",
   "metadata": {},
   "outputs": [
    {
     "data": {
      "text/plain": [
       "tuple"
      ]
     },
     "execution_count": 3,
     "metadata": {},
     "output_type": "execute_result"
    }
   ],
   "source": [
    "#Print the type of the tuple\n",
    "\n",
    "type(tuple1)"
   ]
  },
  {
   "cell_type": "markdown",
   "id": "fef54afc",
   "metadata": {},
   "source": [
    "### Indexing\n",
    "\n",
    "Each element can be accessed via an index. The following exercises represent the relaionship between indexes and tuples "
   ]
  },
  {
   "cell_type": "code",
   "execution_count": 10,
   "id": "9d08fa48",
   "metadata": {},
   "outputs": [
    {
     "name": "stdout",
     "output_type": "stream",
     "text": [
      "disco\n",
      "10\n",
      "1.2\n"
     ]
    }
   ],
   "source": [
    "print(tuple1[0])\n",
    "print(tuple1[1])\n",
    "print(tuple1[2])"
   ]
  },
  {
   "cell_type": "code",
   "execution_count": 7,
   "id": "3b21a25c",
   "metadata": {},
   "outputs": [
    {
     "name": "stdout",
     "output_type": "stream",
     "text": [
      "<class 'str'>\n",
      "<class 'int'>\n",
      "<class 'float'>\n"
     ]
    }
   ],
   "source": [
    "#print the type\n",
    "\n",
    "print(type(tuple1[0]))\n",
    "print(type(tuple1[1]))\n",
    "print(type(tuple1[2]))"
   ]
  },
  {
   "cell_type": "code",
   "execution_count": 11,
   "id": "92691d85",
   "metadata": {},
   "outputs": [
    {
     "data": {
      "text/plain": [
       "1.2"
      ]
     },
     "execution_count": 11,
     "metadata": {},
     "output_type": "execute_result"
    }
   ],
   "source": [
    "# Use negative index to get the value of the last element\n",
    "\n",
    "tuple1[-1]"
   ]
  },
  {
   "cell_type": "markdown",
   "id": "c1d2cf7c",
   "metadata": {},
   "source": [
    "### Concatante tuples\n",
    "*Fancy word for combine*"
   ]
  },
  {
   "cell_type": "code",
   "execution_count": 12,
   "id": "53c19a7a",
   "metadata": {},
   "outputs": [
    {
     "data": {
      "text/plain": [
       "('disco', 10, 1.2, 'hard rock', 10)"
      ]
     },
     "execution_count": 12,
     "metadata": {},
     "output_type": "execute_result"
    }
   ],
   "source": [
    "tuple2 = tuple1 + (\"hard rock\",10)\n",
    "tuple2"
   ]
  },
  {
   "cell_type": "markdown",
   "id": "a4bca304",
   "metadata": {},
   "source": [
    "### Slicing\n",
    "*Slicing a tuple gives us new tuples*"
   ]
  },
  {
   "cell_type": "code",
   "execution_count": 13,
   "id": "41c8e3a4",
   "metadata": {},
   "outputs": [
    {
     "data": {
      "text/plain": [
       "('disco', 10, 1.2)"
      ]
     },
     "execution_count": 13,
     "metadata": {},
     "output_type": "execute_result"
    }
   ],
   "source": [
    "# Slice from index 0 to index 2 \n",
    "\n",
    "tuple2[0:3]"
   ]
  },
  {
   "cell_type": "code",
   "execution_count": 14,
   "id": "924a60ff",
   "metadata": {},
   "outputs": [
    {
     "data": {
      "text/plain": [
       "5"
      ]
     },
     "execution_count": 14,
     "metadata": {},
     "output_type": "execute_result"
    }
   ],
   "source": [
    "# Get length of tuple \n",
    "\n",
    "len(tuple2)"
   ]
  },
  {
   "cell_type": "markdown",
   "id": "793ea69d",
   "metadata": {},
   "source": [
    "## Sorting\n",
    "*Organize shit like your mother taught you*"
   ]
  },
  {
   "cell_type": "code",
   "execution_count": 16,
   "id": "6759702e",
   "metadata": {},
   "outputs": [],
   "source": [
    "# A sample tuple\n",
    "\n",
    "Ratings = (0, 9, 6, 5, 10, 8, 9, 6, 2)"
   ]
  },
  {
   "cell_type": "code",
   "execution_count": 17,
   "id": "97b980e1",
   "metadata": {},
   "outputs": [
    {
     "data": {
      "text/plain": [
       "[0, 2, 5, 6, 6, 8, 9, 9, 10]"
      ]
     },
     "execution_count": 17,
     "metadata": {},
     "output_type": "execute_result"
    }
   ],
   "source": [
    "# Sort the tuple like yo mama taught you. PS: This is super usefull\n",
    "\n",
    "RatingsSorted = sorted(Ratings)\n",
    "RatingsSorted"
   ]
  },
  {
   "cell_type": "code",
   "execution_count": 18,
   "id": "2cc93fcf",
   "metadata": {},
   "outputs": [
    {
     "data": {
      "text/plain": [
       "9"
      ]
     },
     "execution_count": 18,
     "metadata": {},
     "output_type": "execute_result"
    }
   ],
   "source": [
    "# I figured this one out on my own :')'\n",
    "\n",
    "len(RatingsSorted)"
   ]
  },
  {
   "cell_type": "markdown",
   "id": "861142f5",
   "metadata": {},
   "source": [
    "### Nested tuple\n",
    "*A tuple can contain another tuple... go figure! The nerds call it \"nesting\"... you know its like the shit birds do.*"
   ]
  },
  {
   "cell_type": "code",
   "execution_count": 12,
   "id": "65980ac5",
   "metadata": {},
   "outputs": [],
   "source": [
    "NestedT = (1, 2, (\"pop\", \"rock\") ,(3,4),(\"disco\",(1,2)))"
   ]
  },
  {
   "cell_type": "code",
   "execution_count": 13,
   "id": "515d6d21",
   "metadata": {},
   "outputs": [
    {
     "name": "stdout",
     "output_type": "stream",
     "text": [
      "pop\n"
     ]
    }
   ],
   "source": [
    "# Print elements of the tuple\n",
    "\n",
    "print(NestedT[2][0])"
   ]
  },
  {
   "cell_type": "code",
   "execution_count": 14,
   "id": "826b5d36",
   "metadata": {},
   "outputs": [
    {
     "name": "stdout",
     "output_type": "stream",
     "text": [
      "1\n"
     ]
    }
   ],
   "source": [
    "print(NestedT[0])"
   ]
  },
  {
   "cell_type": "code",
   "execution_count": 16,
   "id": "a9a792fb",
   "metadata": {},
   "outputs": [
    {
     "data": {
      "text/plain": [
       "'o'"
      ]
     },
     "execution_count": 16,
     "metadata": {},
     "output_type": "execute_result"
    }
   ],
   "source": [
    "# Print the first element in the second nested tuples\n",
    "\n",
    "NestedT[2][1][1]"
   ]
  },
  {
   "cell_type": "markdown",
   "id": "0fc24492",
   "metadata": {},
   "source": [
    "## Quiz"
   ]
  },
  {
   "cell_type": "code",
   "execution_count": 23,
   "id": "77eb41d4",
   "metadata": {},
   "outputs": [
    {
     "data": {
      "text/plain": [
       "('pop', 'rock', 'soul', 'hard rock', 'soft rock', 'R&B', 'prog rock', 'disco')"
      ]
     },
     "execution_count": 23,
     "metadata": {},
     "output_type": "execute_result"
    }
   ],
   "source": [
    "# Sample tuple\n",
    "\n",
    "genres_tuple = (\"pop\",\"rock\",\"soul\",\"hard rock\",\"soft rock\", \\\n",
    "                \"R&B\",\"prog rock\", \"disco\")\n",
    "\n",
    "genres_tuple"
   ]
  },
  {
   "cell_type": "code",
   "execution_count": 24,
   "id": "aa181de7",
   "metadata": {},
   "outputs": [
    {
     "data": {
      "text/plain": [
       "8"
      ]
     },
     "execution_count": 24,
     "metadata": {},
     "output_type": "execute_result"
    }
   ],
   "source": [
    "#1 find the lenght of genres_tuple\n",
    "\n",
    "len(genres_tuple)"
   ]
  },
  {
   "cell_type": "code",
   "execution_count": 26,
   "id": "f4ae0786",
   "metadata": {},
   "outputs": [
    {
     "data": {
      "text/plain": [
       "'hard rock'"
      ]
     },
     "execution_count": 26,
     "metadata": {},
     "output_type": "execute_result"
    }
   ],
   "source": [
    "# Access the element, with respect to index 3\n",
    "\n",
    "(genres_tuple[3])"
   ]
  },
  {
   "cell_type": "code",
   "execution_count": 27,
   "id": "21830ffc",
   "metadata": {},
   "outputs": [
    {
     "data": {
      "text/plain": [
       "('hard rock', 'soft rock')"
      ]
     },
     "execution_count": 27,
     "metadata": {},
     "output_type": "execute_result"
    }
   ],
   "source": [
    "# Use slicing to obtain indexes 3,4,5\n",
    "genres_tuple[3:6]"
   ]
  },
  {
   "cell_type": "code",
   "execution_count": 33,
   "id": "4954d142",
   "metadata": {},
   "outputs": [
    {
     "data": {
      "text/plain": [
       "('pop', 'rock')"
      ]
     },
     "execution_count": 33,
     "metadata": {},
     "output_type": "execute_result"
    }
   ],
   "source": [
    "# Find the first two elements of the tuple \"genres_tuple\"\n",
    "\n",
    "genres_tuple[0:2]"
   ]
  },
  {
   "cell_type": "code",
   "execution_count": 35,
   "id": "d2569b88",
   "metadata": {},
   "outputs": [
    {
     "data": {
      "text/plain": [
       "'d'"
      ]
     },
     "execution_count": 35,
     "metadata": {},
     "output_type": "execute_result"
    }
   ],
   "source": [
    "# Find the first index of disco\n",
    "\n",
    "genres_tuple[-1][0]"
   ]
  },
  {
   "cell_type": "code",
   "execution_count": null,
   "id": "37ce0c88",
   "metadata": {},
   "outputs": [],
   "source": [
    "# Generate a sorted list fo"
   ]
  }
 ],
 "metadata": {
  "kernelspec": {
   "display_name": "Python 3",
   "language": "python",
   "name": "python3"
  },
  "language_info": {
   "codemirror_mode": {
    "name": "ipython",
    "version": 3
   },
   "file_extension": ".py",
   "mimetype": "text/x-python",
   "name": "python",
   "nbconvert_exporter": "python",
   "pygments_lexer": "ipython3",
   "version": "3.8.8"
  }
 },
 "nbformat": 4,
 "nbformat_minor": 5
}
