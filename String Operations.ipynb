{
 "cells": [
  {
   "cell_type": "markdown",
   "id": "a9b929b7",
   "metadata": {},
   "source": [
    "# String Operations"
   ]
  },
  {
   "cell_type": "markdown",
   "id": "4642e307",
   "metadata": {},
   "source": [
    "*Im running string operation tests as part of my module exercises*"
   ]
  },
  {
   "cell_type": "markdown",
   "id": "31026719",
   "metadata": {},
   "source": [
    "### Variables and String Indexing"
   ]
  },
  {
   "cell_type": "code",
   "execution_count": 2,
   "id": "f5f4cf3d",
   "metadata": {},
   "outputs": [],
   "source": [
    "name = \"Carlos Santana\""
   ]
  },
  {
   "cell_type": "code",
   "execution_count": 4,
   "id": "cd0cb5f9",
   "metadata": {},
   "outputs": [
    {
     "data": {
      "text/plain": [
       "'Carlos Santana'"
      ]
     },
     "execution_count": 4,
     "metadata": {},
     "output_type": "execute_result"
    }
   ],
   "source": [
    "#Im printing my variable\n",
    "\n",
    "name"
   ]
  },
  {
   "cell_type": "code",
   "execution_count": 8,
   "id": "775c6cc6",
   "metadata": {},
   "outputs": [
    {
     "name": "stdout",
     "output_type": "stream",
     "text": [
      "C\n",
      "o\n",
      "S\n"
     ]
    }
   ],
   "source": [
    "# Im printing different elements from my variable \n",
    "# Numbers represent the position of the character\n",
    "# 0 = C...\n",
    "\n",
    "print(name[0])\n",
    "print(name[4])\n",
    "print(name[7])"
   ]
  },
  {
   "cell_type": "markdown",
   "id": "4f0e64b5",
   "metadata": {},
   "source": [
    "### Negative indexing "
   ]
  },
  {
   "cell_type": "code",
   "execution_count": 10,
   "id": "2473b2d1",
   "metadata": {},
   "outputs": [
    {
     "name": "stdout",
     "output_type": "stream",
     "text": [
      "a\n",
      "C\n"
     ]
    }
   ],
   "source": [
    "# Negative indexing counts from the end of the string\n",
    "\n",
    "print(name[-1])\n",
    "print(name[-14])"
   ]
  },
  {
   "cell_type": "markdown",
   "id": "8b9cdc30",
   "metadata": {},
   "source": [
    "### Find the length of a string "
   ]
  },
  {
   "cell_type": "code",
   "execution_count": 11,
   "id": "037410a3",
   "metadata": {},
   "outputs": [
    {
     "data": {
      "text/plain": [
       "14"
      ]
     },
     "execution_count": 11,
     "metadata": {},
     "output_type": "execute_result"
    }
   ],
   "source": [
    "len(\"Carlos Santana\")"
   ]
  },
  {
   "cell_type": "markdown",
   "id": "5cda9fff",
   "metadata": {},
   "source": [
    "### Slicing "
   ]
  },
  {
   "cell_type": "code",
   "execution_count": 14,
   "id": "018bd59b",
   "metadata": {},
   "outputs": [
    {
     "data": {
      "text/plain": [
       "'Carl'"
      ]
     },
     "execution_count": 14,
     "metadata": {},
     "output_type": "execute_result"
    }
   ],
   "source": [
    "# We can slice a rang of characters from our string\n",
    "\n",
    "name[0:4]"
   ]
  },
  {
   "cell_type": "markdown",
   "id": "2c9ecb4e",
   "metadata": {},
   "source": [
    "### Stride\n",
    "Selects a range of values. Example: Every two characters"
   ]
  },
  {
   "cell_type": "code",
   "execution_count": 15,
   "id": "2475578b",
   "metadata": {},
   "outputs": [
    {
     "data": {
      "text/plain": [
       "'Cro atn'"
      ]
     },
     "execution_count": 15,
     "metadata": {},
     "output_type": "execute_result"
    }
   ],
   "source": [
    "name[::2]"
   ]
  },
  {
   "cell_type": "markdown",
   "id": "a5044276",
   "metadata": {},
   "source": [
    "### Slicing + Stride\n",
    "We use both operators to select the first five elements and then slice "
   ]
  },
  {
   "cell_type": "code",
   "execution_count": 17,
   "id": "6f839212",
   "metadata": {},
   "outputs": [
    {
     "data": {
      "text/plain": [
       "'Cl'"
      ]
     },
     "execution_count": 17,
     "metadata": {},
     "output_type": "execute_result"
    }
   ],
   "source": [
    "name[0:5:3]"
   ]
  },
  {
   "cell_type": "markdown",
   "id": "9e65c1c9",
   "metadata": {},
   "source": [
    "### Concatenate strings\n",
    "\n",
    "Find out how to fix that spacing"
   ]
  },
  {
   "cell_type": "code",
   "execution_count": 21,
   "id": "11733295",
   "metadata": {},
   "outputs": [
    {
     "data": {
      "text/plain": [
       "'Carlos Santana is the best guitarist ever'"
      ]
     },
     "execution_count": 21,
     "metadata": {},
     "output_type": "execute_result"
    }
   ],
   "source": [
    "statement = name + \" is the best guitarist ever\"\n",
    "statement"
   ]
  },
  {
   "cell_type": "markdown",
   "id": "13c4c154",
   "metadata": {},
   "source": [
    "### Print a String multiple times "
   ]
  },
  {
   "cell_type": "code",
   "execution_count": 23,
   "id": "5c562e36",
   "metadata": {},
   "outputs": [
    {
     "data": {
      "text/plain": [
       "'Carlos SantanaCarlos SantanaCarlos Santana'"
      ]
     },
     "execution_count": 23,
     "metadata": {},
     "output_type": "execute_result"
    }
   ],
   "source": [
    "name * 3 "
   ]
  },
  {
   "cell_type": "markdown",
   "id": "54dc0938",
   "metadata": {},
   "source": [
    "### Escape Sequences"
   ]
  },
  {
   "cell_type": "code",
   "execution_count": 25,
   "id": "1a4d54b6",
   "metadata": {},
   "outputs": [
    {
     "name": "stdout",
     "output_type": "stream",
     "text": [
      "Carlos Santana \n",
      " is the best\n"
     ]
    }
   ],
   "source": [
    "# New line escape sequence\n",
    "\n",
    "print(\"Carlos Santana \\n is the best\")"
   ]
  },
  {
   "cell_type": "code",
   "execution_count": 26,
   "id": "7b4f36b4",
   "metadata": {},
   "outputs": [
    {
     "name": "stdout",
     "output_type": "stream",
     "text": [
      "Carlos Santana \t is the best\n"
     ]
    }
   ],
   "source": [
    "# Tab Escape sequence\n",
    "\n",
    "print (\"Carlos Santana \\t is the best\")"
   ]
  },
  {
   "cell_type": "code",
   "execution_count": 27,
   "id": "dc057bb0",
   "metadata": {},
   "outputs": [
    {
     "name": "stdout",
     "output_type": "stream",
     "text": [
      " Carlos \\ Santana\n"
     ]
    }
   ],
   "source": [
    "# Include backslash in string\n",
    "\n",
    "print (\" Carlos \\\\ Santana\")"
   ]
  },
  {
   "cell_type": "code",
   "execution_count": 29,
   "id": "28a86e6f",
   "metadata": {},
   "outputs": [
    {
     "name": "stdout",
     "output_type": "stream",
     "text": [
      "Wu-Tang Clan \\ ain't nothin \\ to fuck with\n"
     ]
    }
   ],
   "source": [
    "# r Tells python the string is raw\n",
    "\n",
    "print(r\"Wu-Tang Clan \\ ain't nothin \\ to fuck with\")"
   ]
  },
  {
   "cell_type": "code",
   "execution_count": 32,
   "id": "dfdb7fff",
   "metadata": {},
   "outputs": [
    {
     "name": "stdout",
     "output_type": "stream",
     "text": [
      "before upper: I like turtles!\n",
      "After upper: I LIKE TURTLES!\n"
     ]
    }
   ],
   "source": [
    "# Convert all the characters in string to upper case\n",
    "\n",
    "a = \"I like turtles!\"\n",
    "print(\"before upper:\", a)\n",
    "b = a.upper()\n",
    "print(\"After upper:\", b)"
   ]
  },
  {
   "cell_type": "code",
   "execution_count": 33,
   "id": "8eb60d42",
   "metadata": {},
   "outputs": [
    {
     "data": {
      "text/plain": [
       "'Janet Jackson is the best'"
      ]
     },
     "execution_count": 33,
     "metadata": {},
     "output_type": "execute_result"
    }
   ],
   "source": [
    "# Replace the old substring with the new target substring is the segment has been found in the string\n",
    "\n",
    "a = \"Michael Jackson is the best\"\n",
    "b = a.replace('Michael', 'Janet')\n",
    "b"
   ]
  },
  {
   "cell_type": "code",
   "execution_count": 34,
   "id": "14bd266d",
   "metadata": {},
   "outputs": [
    {
     "data": {
      "text/plain": [
       "5"
      ]
     },
     "execution_count": 34,
     "metadata": {},
     "output_type": "execute_result"
    }
   ],
   "source": [
    "# Find the substring in the string. Only the index of the first elment of substring in string will be the output\n",
    "\n",
    "name = \"Michael Jackson\"\n",
    "name.find('el')"
   ]
  },
  {
   "cell_type": "code",
   "execution_count": 35,
   "id": "de4f498c",
   "metadata": {},
   "outputs": [
    {
     "data": {
      "text/plain": [
       "8"
      ]
     },
     "execution_count": 35,
     "metadata": {},
     "output_type": "execute_result"
    }
   ],
   "source": [
    "# Find the substring in the string.\n",
    "\n",
    "name.find('Jack')"
   ]
  },
  {
   "cell_type": "code",
   "execution_count": null,
   "id": "fc32caba",
   "metadata": {},
   "outputs": [],
   "source": []
  }
 ],
 "metadata": {
  "kernelspec": {
   "display_name": "Python 3",
   "language": "python",
   "name": "python3"
  },
  "language_info": {
   "codemirror_mode": {
    "name": "ipython",
    "version": 3
   },
   "file_extension": ".py",
   "mimetype": "text/x-python",
   "name": "python",
   "nbconvert_exporter": "python",
   "pygments_lexer": "ipython3",
   "version": "3.8.8"
  }
 },
 "nbformat": 4,
 "nbformat_minor": 5
}
